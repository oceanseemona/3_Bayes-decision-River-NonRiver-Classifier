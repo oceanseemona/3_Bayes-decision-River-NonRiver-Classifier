{
 "cells": [
  {
   "cell_type": "code",
   "execution_count": 1,
   "metadata": {
    "executionInfo": {
     "elapsed": 3997,
     "status": "ok",
     "timestamp": 1610178025427,
     "user": {
      "displayName": "Ajay Biswas",
      "photoUrl": "https://lh3.googleusercontent.com/a-/AOh14Gi1iLIxFozPtsIbKxgUe8FI8f0sNDeaxtFpfHY-=s64",
      "userId": "11556512077135312826"
     },
     "user_tz": -330
    },
    "id": "DmUwtgpF1sFA"
   },
   "outputs": [],
   "source": [
    "from matplotlib import pyplot as plt\n",
    "from matplotlib.image import imread\n",
    "import IPython.display as Disp\n",
    "import numpy as np\n",
    "from PIL import Image"
   ]
  },
  {
   "cell_type": "code",
   "execution_count": 2,
   "metadata": {
    "executionInfo": {
     "elapsed": 4637,
     "status": "ok",
     "timestamp": 1610178026076,
     "user": {
      "displayName": "Ajay Biswas",
      "photoUrl": "https://lh3.googleusercontent.com/a-/AOh14Gi1iLIxFozPtsIbKxgUe8FI8f0sNDeaxtFpfHY-=s64",
      "userId": "11556512077135312826"
     },
     "user_tz": -330
    },
    "id": "tOJGs5Yc1sFL"
   },
   "outputs": [],
   "source": [
    "river = np.array(([146,8],\n",
    "                   [147,3],\n",
    "                   [155,18],\n",
    "                   [158,32],\n",
    "                   [166,57],\n",
    "                   [170,66],\n",
    "                   [169,54],\n",
    "                   [173,63],\n",
    "                   [172,85],\n",
    "                   [175,110],\n",
    "                   [171,102],\n",
    "                   [175,121],\n",
    "                   [172,108],\n",
    "                   [168,130],\n",
    "                   [170,142],\n",
    "                   [167,155],\n",
    "                   [165,171],\n",
    "                   [170,184],\n",
    "                   [161,184],\n",
    "                   [160,196],\n",
    "                   [171,191],\n",
    "                   [165,203],\n",
    "                   [176,202],\n",
    "                   [167,213],\n",
    "                   [178,217],\n",
    "                   [172,224],\n",
    "                   [178,228],\n",
    "                   [174,246],\n",
    "                   [189,260],\n",
    "                   [194,262],\n",
    "                   [195,253],\n",
    "                   [190,265],\n",
    "                   [199,278],\n",
    "                   [206,273],\n",
    "                   [202,274],\n",
    "                   [201,270],\n",
    "                   [203,295],\n",
    "                   [216,289],\n",
    "                   [212,301],\n",
    "                   [215,299],\n",
    "                   [217,327],\n",
    "                   [211,334],\n",
    "                   [168,68],\n",
    "                   [169,68],\n",
    "                   [176,88],\n",
    "                   [177,100],\n",
    "                   [168,136],\n",
    "                   [177,154],\n",
    "                   [162,198],\n",
    "                   [161,196]))\n"
   ]
  },
  {
   "cell_type": "code",
   "execution_count": 3,
   "metadata": {},
   "outputs": [
    {
     "data": {
      "text/plain": [
       "(100, 2)"
      ]
     },
     "execution_count": 3,
     "metadata": {},
     "output_type": "execute_result"
    }
   ],
   "source": [
    "nrx = [32,52,348,485,231,123,343,234,435,372,325,141,263,248,72,237,283,492,\n",
    "            132,86,116,224,298,479,238,259,431,461,411,277,388,206,469,392,129,371,\n",
    "            108,426,111,424,415,426,101,124,398,45,476,78,268,335,372,124,304,58,\n",
    "            357,338,270,440,310,281,428,222,468,417,332,321,469,443,410,410,441,68,\n",
    "            235,460,463,375,68,454,314,316,274,101,114,362,390,257,324,292,474,455,\n",
    "            468,455,473,230,413,360,55,313,418,488]\n",
    "\n",
    "nry = [436,252,476,307,93,116,490,468,400,452,307,309,35,301,450,148,41,450,\n",
    "            295,452,312,211,36,430,56,51,446,490,29,480,99,55,408,91,126,175,\n",
    "            401,483,142,410,189,302,268,112,121,432,221,260,348,412,159,406,220,446,\n",
    "            307,476,144,416,96,246,24,185,90,235,252,440,52,116,388,104,62,128,\n",
    "            161,480,422,287,130,318,143,357,93,440,279,303,58,224,347,74,35,452,\n",
    "            56,458,463,60,306,334,145,470,40,184]\n",
    "\n",
    "non_river1=list(zip(nrx, nry))\n",
    "non_river=np.array(non_river1)\n",
    "non_river.shape"
   ]
  },
  {
   "cell_type": "code",
   "execution_count": 4,
   "metadata": {
    "colab": {
     "base_uri": "https://localhost:8080/",
     "height": 333
    },
    "executionInfo": {
     "elapsed": 4662,
     "status": "error",
     "timestamp": 1610178026124,
     "user": {
      "displayName": "Ajay Biswas",
      "photoUrl": "https://lh3.googleusercontent.com/a-/AOh14Gi1iLIxFozPtsIbKxgUe8FI8f0sNDeaxtFpfHY-=s64",
      "userId": "11556512077135312826"
     },
     "user_tz": -330
    },
    "id": "0DmK6ej-1sFQ",
    "outputId": "70a97a87-ba21-4ccc-884d-f28d058adcac"
   },
   "outputs": [],
   "source": [
    "im1 = np.array(Image.open('band1.gif', 'r'))\n",
    "im2 = np.array(Image.open('band2.gif', 'r'))\n",
    "im3 = np.array(Image.open('band3.gif', 'r'))\n",
    "im4 = np.array(Image.open('band4.gif', 'r'))"
   ]
  },
  {
   "cell_type": "code",
   "execution_count": 5,
   "metadata": {
    "executionInfo": {
     "elapsed": 4616,
     "status": "aborted",
     "timestamp": 1610178026082,
     "user": {
      "displayName": "Ajay Biswas",
      "photoUrl": "https://lh3.googleusercontent.com/a-/AOh14Gi1iLIxFozPtsIbKxgUe8FI8f0sNDeaxtFpfHY-=s64",
      "userId": "11556512077135312826"
     },
     "user_tz": -330
    },
    "id": "4eJVNO--1sFR"
   },
   "outputs": [],
   "source": [
    "rb1=[]\n",
    "rb2=[]\n",
    "rb3=[]\n",
    "rb4=[]\n",
    "for i in range(50):\n",
    "    rb1.append(im1[river[i][1],river[i][0]])\n",
    "    rb2.append(im2[river[i][1],river[i][0]])\n",
    "    rb3.append(im3[river[i][1],river[i][0]])\n",
    "    rb4.append(im4[river[i][1],river[i][0]])"
   ]
  },
  {
   "cell_type": "code",
   "execution_count": 6,
   "metadata": {
    "executionInfo": {
     "elapsed": 4613,
     "status": "aborted",
     "timestamp": 1610178026084,
     "user": {
      "displayName": "Ajay Biswas",
      "photoUrl": "https://lh3.googleusercontent.com/a-/AOh14Gi1iLIxFozPtsIbKxgUe8FI8f0sNDeaxtFpfHY-=s64",
      "userId": "11556512077135312826"
     },
     "user_tz": -330
    },
    "id": "4Hv-2U5D1sFS"
   },
   "outputs": [],
   "source": [
    "nrb1=[]\n",
    "nrb2=[]\n",
    "nrb3=[]\n",
    "nrb4=[]\n",
    "for i in range(100):\n",
    "    nrb1.append(im1[nrx[i],nry[i]])\n",
    "    nrb2.append(im2[nrx[i],nry[i]])\n",
    "    nrb3.append(im3[nrx[i],nry[i]])\n",
    "    nrb4.append(im4[nrx[i],nry[i]])"
   ]
  },
  {
   "cell_type": "code",
   "execution_count": 7,
   "metadata": {
    "executionInfo": {
     "elapsed": 4611,
     "status": "aborted",
     "timestamp": 1610178026086,
     "user": {
      "displayName": "Ajay Biswas",
      "photoUrl": "https://lh3.googleusercontent.com/a-/AOh14Gi1iLIxFozPtsIbKxgUe8FI8f0sNDeaxtFpfHY-=s64",
      "userId": "11556512077135312826"
     },
     "user_tz": -330
    },
    "id": "3IjySXwO1sFS"
   },
   "outputs": [
    {
     "data": {
      "text/plain": [
       "(50, 4)"
      ]
     },
     "execution_count": 7,
     "metadata": {},
     "output_type": "execute_result"
    }
   ],
   "source": [
    "river_train_set = np.array(np.transpose([rb1,rb2,rb3,rb4]))\n",
    "non_river_train_set = np.array(np.transpose([nrb1,nrb2,nrb3,nrb4]))\n",
    "river_train_set.shape"
   ]
  },
  {
   "cell_type": "code",
   "execution_count": 8,
   "metadata": {
    "executionInfo": {
     "elapsed": 4595,
     "status": "aborted",
     "timestamp": 1610178026087,
     "user": {
      "displayName": "Ajay Biswas",
      "photoUrl": "https://lh3.googleusercontent.com/a-/AOh14Gi1iLIxFozPtsIbKxgUe8FI8f0sNDeaxtFpfHY-=s64",
      "userId": "11556512077135312826"
     },
     "user_tz": -330
    },
    "id": "ijsTSnRK1sFT"
   },
   "outputs": [
    {
     "name": "stdout",
     "output_type": "stream",
     "text": [
      "Mean of River class\n",
      "[11.9  13.98 17.32  8.42]\n",
      "\n",
      "Mean of Non-river class\n",
      "[ 7.92  8.92 11.09 17.55]\n"
     ]
    }
   ],
   "source": [
    "T1 = river_train_set.mean(0)\n",
    "T2 = non_river_train_set.mean(0)\n",
    "print(\"Mean of River class\")\n",
    "print(T1)\n",
    "print()\n",
    "print(\"Mean of Non-river class\")\n",
    "print(T2)"
   ]
  },
  {
   "cell_type": "code",
   "execution_count": 9,
   "metadata": {
    "executionInfo": {
     "elapsed": 4567,
     "status": "aborted",
     "timestamp": 1610178026095,
     "user": {
      "displayName": "Ajay Biswas",
      "photoUrl": "https://lh3.googleusercontent.com/a-/AOh14Gi1iLIxFozPtsIbKxgUe8FI8f0sNDeaxtFpfHY-=s64",
      "userId": "11556512077135312826"
     },
     "user_tz": -330
    },
    "id": "2l5xKLnz1sFV"
   },
   "outputs": [
    {
     "data": {
      "text/plain": [
       "(4, 512, 512)"
      ]
     },
     "execution_count": 9,
     "metadata": {},
     "output_type": "execute_result"
    }
   ],
   "source": [
    "test_data=np.array([im1,im2,im3,im4])\n",
    "test_data.shape"
   ]
  },
  {
   "cell_type": "code",
   "execution_count": 10,
   "metadata": {},
   "outputs": [
    {
     "name": "stdout",
     "output_type": "stream",
     "text": [
      "Covariance matrix of River class\n",
      "\n",
      "[[ 0.65    0.318   0.372   0.202 ]\n",
      " [ 0.318   0.6596  0.6864 -1.0316]\n",
      " [ 0.372   0.6864  1.4976 -2.0744]\n",
      " [ 0.202  -1.0316 -2.0744 15.4436]]\n",
      "\n",
      "Covariance matrix of Non-river class\n",
      "\n",
      "[[ 7.2736  6.4036 10.5972  7.184 ]\n",
      " [ 6.4036  6.6936 10.0072  8.134 ]\n",
      " [10.5972 10.0072 18.5619 11.9005]\n",
      " [ 7.184   8.134  11.9005 51.8275]]\n"
     ]
    }
   ],
   "source": [
    "def cov(d):\n",
    "    m = d.mean(0)\n",
    "    row,col=d.shape\n",
    "    covm = np.zeros((col,col))\n",
    "    v = np.zeros(col)        \n",
    "    for j in range(col):\n",
    "        for k in range(col):\n",
    "            for i in range(row):\n",
    "                covm[j][k] += (1/row) * (d[i][j] - m[j]) * (d[i][k] - m[k])                    \n",
    "    return covm\n",
    "\n",
    "covm_river = cov(river_train_set)\n",
    "print(\"Covariance matrix of River class\\n\")\n",
    "print(covm_river)\n",
    "print()\n",
    "covm_nr = cov(non_river_train_set)\n",
    "print(\"Covariance matrix of Non-river class\\n\")\n",
    "print(covm_nr)"
   ]
  },
  {
   "cell_type": "code",
   "execution_count": 11,
   "metadata": {
    "executionInfo": {
     "elapsed": 4573,
     "status": "aborted",
     "timestamp": 1610178026108,
     "user": {
      "displayName": "Ajay Biswas",
      "photoUrl": "https://lh3.googleusercontent.com/a-/AOh14Gi1iLIxFozPtsIbKxgUe8FI8f0sNDeaxtFpfHY-=s64",
      "userId": "11556512077135312826"
     },
     "user_tz": -330
    },
    "id": "8wV4wYhv1sFW"
   },
   "outputs": [],
   "source": [
    "def posterior(i,j):\n",
    "    r = np.subtract(test_data[:,i,j],T1)\n",
    "    nr = np.subtract(test_data[:,i,j],T2)\n",
    "\n",
    "    river_class= np.dot(np.dot(r.T,np.linalg.inv(covm_river)), r)\n",
    "    non_river_class = np.dot(np.dot(nr.T,np.linalg.inv(covm_nr)), nr)\n",
    "\n",
    "    det_r = np.linalg.det(covm_river)\n",
    "    p1 = (-0.5) * 1/np.sqrt(det_r) * np.exp(river_class);\n",
    "\n",
    "    det_nr = np.linalg.det(covm_nr)\n",
    "    p2 = (-0.5) * 1/np.sqrt(det_nr) * np.exp(non_river_class);\n",
    "    return p1,p2\n"
   ]
  },
  {
   "cell_type": "code",
   "execution_count": 12,
   "metadata": {
    "executionInfo": {
     "elapsed": 4571,
     "status": "aborted",
     "timestamp": 1610178026110,
     "user": {
      "displayName": "Ajay Biswas",
      "photoUrl": "https://lh3.googleusercontent.com/a-/AOh14Gi1iLIxFozPtsIbKxgUe8FI8f0sNDeaxtFpfHY-=s64",
      "userId": "11556512077135312826"
     },
     "user_tz": -330
    },
    "id": "V8ehP7Iq1sFW"
   },
   "outputs": [],
   "source": [
    "def bayes(P1, P2):\n",
    "    op_image=np.zeros((512,512))\n",
    "    for i in range(512):\n",
    "        for j in range(512):\n",
    "            p1,p2 = posterior(i,j)\n",
    "            if((P1 * p1) >= (P2 * p2)):\n",
    "                op_image[i,j]=255\n",
    "            else:\n",
    "                op_image[i,j]=0\n",
    "                \n",
    "    return op_image"
   ]
  },
  {
   "cell_type": "code",
   "execution_count": 13,
   "metadata": {
    "executionInfo": {
     "elapsed": 4572,
     "status": "aborted",
     "timestamp": 1610178026115,
     "user": {
      "displayName": "Ajay Biswas",
      "photoUrl": "https://lh3.googleusercontent.com/a-/AOh14Gi1iLIxFozPtsIbKxgUe8FI8f0sNDeaxtFpfHY-=s64",
      "userId": "11556512077135312826"
     },
     "user_tz": -330
    },
    "id": "N5nx6nIM1sFX"
   },
   "outputs": [],
   "source": [
    "sample = plt.imread('pqr.jpg')"
   ]
  },
  {
   "cell_type": "code",
   "execution_count": 14,
   "metadata": {
    "executionInfo": {
     "elapsed": 4554,
     "status": "aborted",
     "timestamp": 1610178026116,
     "user": {
      "displayName": "Ajay Biswas",
      "photoUrl": "https://lh3.googleusercontent.com/a-/AOh14Gi1iLIxFozPtsIbKxgUe8FI8f0sNDeaxtFpfHY-=s64",
      "userId": "11556512077135312826"
     },
     "user_tz": -330
    },
    "id": "DdxTlbX31sFX"
   },
   "outputs": [
    {
     "name": "stderr",
     "output_type": "stream",
     "text": [
      "c:\\python\\python36\\lib\\site-packages\\ipykernel_launcher.py:9: RuntimeWarning: overflow encountered in exp\n",
      "  if __name__ == '__main__':\n"
     ]
    },
    {
     "data": {
      "image/png": "[encoded data removed]",
      "text/plain": [
       "<Figure size 432x288 with 1 Axes>"
      ]
     },
     "metadata": {
      "needs_background": "light"
     },
     "output_type": "display_data"
    },
    {
     "name": "stdout",
     "output_type": "stream",
     "text": [
      "Accuracy :  99.80888366699219 %\n"
     ]
    }
   ],
   "source": [
    "image1 = bayes(P1=0.3,P2=0.7)\n",
    "\n",
    "plt.imshow(image1, cmap='gray')\n",
    "plt.subplots_adjust(right=1.2, top=2)\n",
    "plt.show()\n",
    "\n",
    "\n",
    "count=0\n",
    "for i in range(512):\n",
    "    for j in range(512):\n",
    "        if sample[i,j,0]>127:\n",
    "            val=255\n",
    "        else:\n",
    "            val=0\n",
    "        if (val==image1[i,j]):\n",
    "            count = count+1\n",
    "print('Accuracy : ',count*100/(512*512),'%')"
   ]
  },
  {
   "cell_type": "code",
   "execution_count": 15,
   "metadata": {
    "executionInfo": {
     "elapsed": 4539,
     "status": "aborted",
     "timestamp": 1610178026118,
     "user": {
      "displayName": "Ajay Biswas",
      "photoUrl": "https://lh3.googleusercontent.com/a-/AOh14Gi1iLIxFozPtsIbKxgUe8FI8f0sNDeaxtFpfHY-=s64",
      "userId": "11556512077135312826"
     },
     "user_tz": -330
    },
    "id": "XUHORMge1sFX"
   },
   "outputs": [
    {
     "name": "stderr",
     "output_type": "stream",
     "text": [
      "c:\\python\\python36\\lib\\site-packages\\ipykernel_launcher.py:9: RuntimeWarning: overflow encountered in exp\n",
      "  if __name__ == '__main__':\n"
     ]
    },
    {
     "data": {
      "image/png": "[encoded data removed]",
      "text/plain": [
       "<Figure size 432x288 with 1 Axes>"
      ]
     },
     "metadata": {
      "needs_background": "light"
     },
     "output_type": "display_data"
    },
    {
     "name": "stdout",
     "output_type": "stream",
     "text": [
      "Accuracy :  99.74174499511719 %\n"
     ]
    }
   ],
   "source": [
    "image2 = bayes(P1=0.7,P2=0.3)\n",
    "\n",
    "plt.imshow(image2, cmap='gray')\n",
    "plt.subplots_adjust(right=1.2, top=2)\n",
    "plt.show()\n",
    "\n",
    "count=0\n",
    "for i in range(512):\n",
    "    for j in range(512):\n",
    "        if sample[i,j,0]>150:\n",
    "            val=255\n",
    "        else:\n",
    "            val=0\n",
    "        if (val==image2[i,j]):\n",
    "            count = count+1\n",
    "print('Accuracy : ',count*100/(512*512),'%')"
   ]
  },
  {
   "cell_type": "code",
   "execution_count": 16,
   "metadata": {
    "executionInfo": {
     "elapsed": 4527,
     "status": "aborted",
     "timestamp": 1610178026120,
     "user": {
      "displayName": "Ajay Biswas",
      "photoUrl": "https://lh3.googleusercontent.com/a-/AOh14Gi1iLIxFozPtsIbKxgUe8FI8f0sNDeaxtFpfHY-=s64",
      "userId": "11556512077135312826"
     },
     "user_tz": -330
    },
    "id": "8fGTNktV1sFY"
   },
   "outputs": [
    {
     "name": "stderr",
     "output_type": "stream",
     "text": [
      "c:\\python\\python36\\lib\\site-packages\\ipykernel_launcher.py:9: RuntimeWarning: overflow encountered in exp\n",
      "  if __name__ == '__main__':\n"
     ]
    },
    {
     "data": {
      "image/png": "[encoded data removed]",
      "text/plain": [
       "<Figure size 432x288 with 1 Axes>"
      ]
     },
     "metadata": {
      "needs_background": "light"
     },
     "output_type": "display_data"
    },
    {
     "name": "stdout",
     "output_type": "stream",
     "text": [
      "Accuracy :  99.7711181640625 %\n"
     ]
    }
   ],
   "source": [
    "image3 = bayes(P1=0.5,P2=0.5)\n",
    "plt.imshow(image3, cmap='gray')\n",
    "plt.subplots_adjust(right=1.2, top=2)\n",
    "plt.show()\n",
    "\n",
    "count=0\n",
    "for i in range(512):\n",
    "    for j in range(512):\n",
    "        if sample[i,j,0]>100:\n",
    "            val=255\n",
    "        else:\n",
    "            val=0\n",
    "        if (val==image3[i,j]):\n",
    "            count = count+1\n",
    "print('Accuracy : ',count*100/(512*512),'%')"
   ]
  },
  {
   "cell_type": "code",
   "execution_count": null,
   "metadata": {},
   "outputs": [],
   "source": []
  }
 ],
 "metadata": {
  "colab": {
   "collapsed_sections": [],
   "name": "Seemona_Ocean_220CS2265_ML3.ipynb",
   "provenance": []
  },
  "kernelspec": {
   "display_name": "Python 3",
   "language": "python",
   "name": "python3"
  },
  "language_info": {
   "codemirror_mode": {
    "name": "ipython",
    "version": 3
   },
   "file_extension": ".py",
   "mimetype": "text/x-python",
   "name": "python",
   "nbconvert_exporter": "python",
   "pygments_lexer": "ipython3",
   "version": "3.6.4"
  }
 },
 "nbformat": 4,
 "nbformat_minor": 1
}
